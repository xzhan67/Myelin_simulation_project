{
 "cells": [
  {
   "cell_type": "code",
   "execution_count": 3,
   "metadata": {},
   "outputs": [],
   "source": [
    "import numpy as np"
   ]
  },
  {
   "cell_type": "code",
   "execution_count": 8,
   "metadata": {
    "scrolled": true
   },
   "outputs": [],
   "source": [
    "outf=open('all_script_for_myelin_model_XZ_without16.txt','w')\n",
    "outf.write('#! python2\\n')\n",
    "outf.write('from scanip_api import *\\n')\n",
    "outf.write('\\n')\n",
    "axon_name = [\"01\",'02','03','04','05',\"06\",'07','08','09','10',\"11\",'12','13','14','15','16','17','18','19','20','21',\n",
    "                  '22']\n",
    "layer_name = ['1','2','3','4']\n",
    "myelin_layer=[]\n",
    "for ax in axon_name:\n",
    "    for la in layer_name:\n",
    "        myelin_name= str(ax+la)\n",
    "        myelin_layer.append(myelin_name)\n",
    "thickness_single = 2\n",
    "\n",
    "\n",
    "for i in range(22):\n",
    "    if i != 15:\n",
    "        for j in range(4):\n",
    "\n",
    "            outf.write('# 2022-09-22 10:51:01 - Mask activation\\n')\n",
    "            outf.write('App.GetDocument().GetGenericMaskByName(\"Axon'+str(i+1)+'\").Activate()\\n')\n",
    "            outf.write('\\n')\n",
    "            outf.write('# 2022-09-22 10:44:34 - Mask duplication\\n')\n",
    "            outf.write('App.GetDocument().GetActiveGenericMask().Duplicate()\\n')\n",
    "            outf.write('\\n')\n",
    "            outf.write('# 2022-09-22 10:44:35 - Mask activation\\n')\n",
    "            outf.write('App.GetDocument().GetGenericMaskByName(\"Copy of Axon'+str(i+1)+'\").Activate()\\n')\n",
    "            outf.write('\\n')\n",
    "            outf.write('# 2022-09-22 10:44:46 - Mask renaming\\n')\n",
    "            outf.write('App.GetDocument().GetGenericMaskByName(\"Copy of Axon'+str(i+1)+'\").SetName(\"Myelin'+myelin_layer[4*i+j]+'\")\\n')\n",
    "            outf.write('\\n')\n",
    "            outf.write('# 2022-09-22 10:45:12 - Morphological filter\\n')\n",
    "            outf.write('App.GetDocument().ApplyDilateFilter(Doc.TargetMask, '+str(thickness_single*(j+1))+', '+str(thickness_single*(j+1))+', 0, 0.0)\\n')\n",
    "            outf.write('\\n')\n",
    "        for k in [3 ,2, 1, 0]:\n",
    "            if k != 0:\n",
    "                outf.write('# 2022-09-22 10:45:31 - Voxel Boolean\\n')\n",
    "                outf.write('App.GetDocument().ReplaceMaskUsingBooleanExpression(\"(Myelin'+myelin_layer[4*i+k]+' MINUS Myelin'+myelin_layer[4*i+k-1]+')\", App.GetDocument().GetMaskByName(\"Myelin'+myelin_layer[4*i+k]+'\"), App.GetDocument().GetSliceIndices(Doc.OrientationZX), Doc.OrientationZX)\\n')\n",
    "                outf.write('\\n')\n",
    "            else:\n",
    "                outf.write('# 2022-09-22 10:45:31 - Voxel Boolean\\n')\n",
    "                outf.write('App.GetDocument().ReplaceMaskUsingBooleanExpression(\"(Myelin'+myelin_layer[4*i]+' MINUS Axon'+str(i+1)+')\", App.GetDocument().GetMaskByName(\"Myelin'+myelin_layer[4*i]+'\"), App.GetDocument().GetSliceIndices(Doc.OrientationZX), Doc.OrientationZX)\\n')\n",
    "                outf.write('\\n')\n",
    "                \n",
    "rand2=np.random.randint(-30,30,22)\n",
    "#rand2=[ 12, -34,  -1, -39, -15, -12, -44, -11, -40, -25, -40, -50, -42, 5, -49, -26, -34, -24,  -1, -37, -22, -39]\n",
    "rand2=([-27,  13, -15, -10,  -4,   4,  28,  16,  15,   8, -11, -13,  10, 6,  -7,  12, -10,   4, -12,   4,  14,   2])\n",
    "remove_slices=dict()\n",
    "for i in range(22):\n",
    "    if i != 15:\n",
    "        remove_slices[str(i+1)]=[]\n",
    "        if rand2[i]<0:\n",
    "            for j in range(5):\n",
    "                remove_slices[str(i+1)]=remove_slices[str(i+1)]+list(range(rand2[i]+(j+1)*65+j*10,rand2[i]+(j+1)*(65+10)))\n",
    "        else:\n",
    "            remove_slices[str(i+1)]=remove_slices[str(i+1)]+list(range(0,rand2[i]))\n",
    "            for j in range(1,5):    \n",
    "                remove_slices[str(i+1)]=remove_slices[str(i+1)]+list(range(rand2[i]+65*j+(j-1)*10,rand2[i]+j*65+j*10))\n",
    "            \n",
    "for i in range(22):\n",
    "    if i != 15:\n",
    "        for la in layer_name:\n",
    "            myelin_name= str(axon_name[i]+la)\n",
    "            outf.write('# 2020-02-16 14:42:30 - Mask activation\\n')\n",
    "            outf.write('App.GetDocument().GetGenericMaskByName(\"Myelin'+myelin_name+'\").Activate()\\n')\n",
    "            outf.write('# 2020-02-16 15:09:58 - Paint\\n')\n",
    "            outf.write('App.GetDocument().GetActiveMask().Unpaint([Point3D(140, 141, '+str(remove_slices[str(i+1)][0])+')], Mask.Square, 300, True,\\n') \n",
    "            outf.write('['+','.join([str(k) for k in remove_slices[str(i+1)] if k<279])+'],\\n')\n",
    "            outf.write('Doc.OrientationXY, True)\\n')\n",
    "            outf.write('\\n')\n",
    "            \n",
    "outf.write('# 2020-02-16 14:42:30 - Mask activation\\n')\n",
    "outf.write('App.GetDocument().GetGenericMaskByName(\"Microglia\").Activate()\\n')\n",
    "outf.write('\\n')\n",
    "for i in axon_name:\n",
    "    for la in layer_name:\n",
    "        if i != '16':\n",
    "            la_m = i+la\n",
    "            outf.write('# 2022-09-22 10:45:31 - Voxel Boolean\\n')\n",
    "            outf.write('App.GetDocument().ReplaceMaskUsingBooleanExpression(\"(Microglia MINUS Myelin'+la_m+')\",App.GetDocument().GetMaskByName(\"Microglia\"), App.GetDocument().GetSliceIndices(Doc.OrientationXY), Doc.OrientationXY)\\n')\n",
    "            outf.write('\\n')         \n",
    "\n",
    "        \n",
    "outf.close()"
   ]
  },
  {
   "cell_type": "code",
   "execution_count": null,
   "metadata": {},
   "outputs": [],
   "source": [
    "\n",
    "rand2=np.random.randint(-30,30,22)\n",
    "#rand2=[ 12, -34,  -1, -39, -15, -12, -44, -11, -40, -25, -40, -50, -42, 5, -49, -26, -34, -24,  -1, -37, -22, -39]\n",
    "rand2=([-27,  13, -15, -10,  -4,   4,  28,  16,  15,   8, -11, -13,  10, 6,  -7,  12, -10,   4, -12,   4,  14,   2])\n",
    "remove_slices=dict()\n",
    "for i in range(22):\n",
    "    if i != 15:\n",
    "        remove_slices[str(i+1)]=[]\n",
    "        if rand2[i]<0:\n",
    "            for j in range(5):\n",
    "                remove_slices[str(i+1)]=remove_slices[str(i+1)]+list(range(rand2[i]+(j+1)*65+j*10,rand2[i]+(j+1)*(65+10)))\n",
    "        else:\n",
    "            remove_slices[str(i+1)]=remove_slices[str(i+1)]+list(range(0,rand2[i]))\n",
    "            for j in range(1,5):    \n",
    "                remove_slices[str(i+1)]=remove_slices[str(i+1)]+list(range(rand2[i]+65*j+(j-1)*10,rand2[i]+j*65+j*10))\n",
    "            \n",
    "for i in range(22):\n",
    "    if i != 15:\n",
    "        for la in layer_name:\n",
    "            myelin_name= str(axon_name[i]+la)\n",
    "            outf.write('# 2020-02-16 14:42:30 - Mask activation\\n')\n",
    "            outf.write('App.GetDocument().GetGenericMaskByName(\"Myelin'+myelin_name+'\").Activate()\\n')\n",
    "            outf.write('# 2020-02-16 15:09:58 - Paint\\n')\n",
    "            outf.write('App.GetDocument().GetActiveMask().Unpaint([Point3D(140, 141, '+str(remove_slices[str(i+1)][0])+')], Mask.Square, 300, True,\\n') \n",
    "            outf.write('['+','.join([str(k) for k in remove_slices[str(i+1)] if k<279])+'],\\n')\n",
    "            outf.write('Doc.OrientationXY, True)\\n')\n",
    "            outf.write('\\n')\n",
    "\n",
    "              \n",
    "outf.write('# 2020-02-16 14:42:30 - Mask activation\\n')\n",
    "outf.write('App.GetDocument().GetGenericMaskByName(\"Microglia\").Activate()\\n')\n",
    "outf.write('\\n')\n",
    "for i in axon_name:\n",
    "    for la in layer_name:\n",
    "        la_m = i+la\n",
    "        outf.write('# 2022-09-22 10:45:31 - Voxel Boolean\\n')\n",
    "        outf.write('App.GetDocument().ReplaceMaskUsingBooleanExpression(\"(Microglia MINUS Myelin'+la_m+')\",App.GetDocument().GetMaskByName(\"Microglia\"), App.GetDocument().GetSliceIndices(Doc.OrientationXY), Doc.OrientationXY)\\n')\n",
    "        outf.write('\\n')"
   ]
  },
  {
   "cell_type": "code",
   "execution_count": null,
   "metadata": {},
   "outputs": [],
   "source": []
  },
  {
   "cell_type": "code",
   "execution_count": null,
   "metadata": {},
   "outputs": [],
   "source": []
  },
  {
   "cell_type": "code",
   "execution_count": null,
   "metadata": {},
   "outputs": [],
   "source": []
  },
  {
   "cell_type": "code",
   "execution_count": null,
   "metadata": {},
   "outputs": [],
   "source": []
  },
  {
   "cell_type": "code",
   "execution_count": null,
   "metadata": {},
   "outputs": [],
   "source": []
  },
  {
   "cell_type": "code",
   "execution_count": null,
   "metadata": {},
   "outputs": [],
   "source": []
  },
  {
   "cell_type": "code",
   "execution_count": null,
   "metadata": {},
   "outputs": [],
   "source": []
  },
  {
   "cell_type": "code",
   "execution_count": null,
   "metadata": {},
   "outputs": [],
   "source": []
  },
  {
   "cell_type": "code",
   "execution_count": null,
   "metadata": {},
   "outputs": [],
   "source": []
  },
  {
   "cell_type": "code",
   "execution_count": null,
   "metadata": {},
   "outputs": [],
   "source": []
  },
  {
   "cell_type": "code",
   "execution_count": null,
   "metadata": {},
   "outputs": [],
   "source": []
  },
  {
   "cell_type": "code",
   "execution_count": null,
   "metadata": {},
   "outputs": [],
   "source": []
  },
  {
   "cell_type": "code",
   "execution_count": null,
   "metadata": {},
   "outputs": [],
   "source": []
  },
  {
   "cell_type": "code",
   "execution_count": null,
   "metadata": {},
   "outputs": [],
   "source": []
  },
  {
   "cell_type": "code",
   "execution_count": null,
   "metadata": {},
   "outputs": [],
   "source": []
  },
  {
   "cell_type": "code",
   "execution_count": null,
   "metadata": {},
   "outputs": [],
   "source": []
  },
  {
   "cell_type": "code",
   "execution_count": null,
   "metadata": {},
   "outputs": [],
   "source": []
  },
  {
   "cell_type": "code",
   "execution_count": null,
   "metadata": {},
   "outputs": [],
   "source": []
  },
  {
   "cell_type": "code",
   "execution_count": 53,
   "metadata": {},
   "outputs": [],
   "source": [
    "outf=open('microglia.txt','w')\n",
    "axon_name = [\"01\",'02','03','04','05',\"06\",'07','08','09','10',\"11\",'12','13','14','15',\"16\",'17','18','19','20','21',\n",
    "                  '22']\n",
    "layer_name = ['1','2','3','4']\n",
    "outf.write('# 2020-02-16 14:42:30 - Mask activation\\n')\n",
    "outf.write('App.GetDocument().GetGenericMaskByName(\"Microglia\").Activate()\\n')\n",
    "outf.write('\\n')\n",
    "for i in axon_name:\n",
    "    for la in layer_name:\n",
    "        la_m = i+la\n",
    "        outf.write('# 2022-09-22 10:45:31 - Voxel Boolean\\n')\n",
    "        outf.write('App.GetDocument().ReplaceMaskUsingBooleanExpression(\"(Microglia MINUS Myelin'+la_m+')\",App.GetDocument().GetMaskByName(\"Microglia\"), App.GetDocument().GetSliceIndices(Doc.OrientationXY), Doc.OrientationXY)\\n')\n",
    "        outf.write('\\n')\n",
    "        \n",
    "outf.close()"
   ]
  },
  {
   "cell_type": "code",
   "execution_count": null,
   "metadata": {},
   "outputs": [],
   "source": []
  },
  {
   "cell_type": "code",
   "execution_count": null,
   "metadata": {},
   "outputs": [],
   "source": []
  },
  {
   "cell_type": "code",
   "execution_count": null,
   "metadata": {},
   "outputs": [],
   "source": []
  },
  {
   "cell_type": "code",
   "execution_count": null,
   "metadata": {},
   "outputs": [],
   "source": [
    "            \n",
    "for ind in range(22):       \n",
    "    outf.write('# 2022-09-22 10:45:31 - Voxel Boolean\\n')\n",
    "    outf.write('App.GetDocument().ReplaceMaskUsingBooleanExpression(\"(Microglia MINUS Axon'+str(ind+1)+')\",App.GetDocument().GetMaskByName(\"Microglia\"), App.GetDocument().GetSliceIndices(Doc.OrientationXY), Doc.OrientationXY)\\n')\n",
    "    outf.write('\\n')   \n",
    "for la_m in myelin_layer:\n",
    "    outf.write('# 2022-09-22 10:45:31 - Voxel Boolean\\n')\n",
    "    outf.write('App.GetDocument().ReplaceMaskUsingBooleanExpression(\"(Microglia MINUS Myelin'+la_m+')\",App.GetDocument().GetMaskByName(\"Microglia\"), App.GetDocument().GetSliceIndices(Doc.OrientationXY), Doc.OrientationXY)\\n')\n",
    "    outf.write('\\n')"
   ]
  },
  {
   "cell_type": "code",
   "execution_count": null,
   "metadata": {},
   "outputs": [],
   "source": []
  },
  {
   "cell_type": "code",
   "execution_count": null,
   "metadata": {},
   "outputs": [],
   "source": []
  },
  {
   "cell_type": "code",
   "execution_count": null,
   "metadata": {},
   "outputs": [],
   "source": []
  },
  {
   "cell_type": "code",
   "execution_count": null,
   "metadata": {},
   "outputs": [],
   "source": []
  },
  {
   "cell_type": "code",
   "execution_count": null,
   "metadata": {},
   "outputs": [],
   "source": []
  },
  {
   "cell_type": "code",
   "execution_count": null,
   "metadata": {},
   "outputs": [],
   "source": []
  },
  {
   "cell_type": "code",
   "execution_count": null,
   "metadata": {},
   "outputs": [],
   "source": []
  },
  {
   "cell_type": "code",
   "execution_count": null,
   "metadata": {},
   "outputs": [],
   "source": []
  },
  {
   "cell_type": "code",
   "execution_count": null,
   "metadata": {},
   "outputs": [],
   "source": []
  },
  {
   "cell_type": "code",
   "execution_count": null,
   "metadata": {},
   "outputs": [],
   "source": []
  },
  {
   "cell_type": "code",
   "execution_count": null,
   "metadata": {},
   "outputs": [],
   "source": []
  },
  {
   "cell_type": "code",
   "execution_count": null,
   "metadata": {},
   "outputs": [],
   "source": []
  },
  {
   "cell_type": "code",
   "execution_count": 46,
   "metadata": {},
   "outputs": [],
   "source": [
    "outf=open('union.txt','w')\n",
    "axon_name = [\"01\",'02','03','04','05',\"06\",'07','08','09','10',\"11\",'12','13','14','15',\"16\",'17','18','19','20','21',\n",
    "                  '22']\n",
    "layer_name = ['1','2','3','4']\n",
    "\n",
    "\n",
    "for i in range(22):\n",
    "    outf.write('# 2020-02-16 14:42:30 - Mask activation\\n')\n",
    "    outf.write('App.GetDocument().GetGenericMaskByName(\"Microglia\").Activate()\\n')\n",
    "    outf.write('\\n')\n",
    "    outf.write('# 2022-09-22 15:17:42 - Voxel Boolean\\n')\n",
    "    outf.write('App.GetDocument().ReplaceMaskUsingBooleanExpression(\"(Microglia OR Myelin'+str(i+1)+')\", App.GetDocument().GetMaskByName(\"Microglia\"), App.GetDocument().GetSliceIndices(Doc.OrientationZX), Doc.OrientationZX)\\n')\n",
    "    outf.write('\\n')\n",
    "    \n",
    "    outf.write('# 2020-02-16 14:42:30 - Mask activation\\n')\n",
    "    outf.write('App.GetDocument().GetGenericMaskByName(\"Myelin'+str(i+1)+'\").Activate()\\n')\n",
    "    outf.write('\\n')\n",
    "    outf.write('# 2022-09-22 15:42:52 - Mask removal\\n')\n",
    "    outf.write('App.GetDocument().RemoveMask(App.GetDocument().GetActiveGenericMask())\\n')\n",
    "    outf.write('\\n')\n",
    "#     for la in layer_name:\n",
    "#         myelin_name= str(axon_name[i]+la)\n",
    "#         outf.write('# 2022-09-22 15:17:42 - Voxel Boolean\\n')\n",
    "#         outf.write('App.GetDocument().ReplaceMaskUsingBooleanExpression(\"(Microglia OR Myelin'+myelin_name+')\", App.GetDocument().GetMaskByName(\"Microglia\"), App.GetDocument().GetSliceIndices(Doc.OrientationZX), Doc.OrientationZX)\\n')\n",
    "#         outf.write('\\n')\n",
    "\n",
    "        \n",
    "outf.close()"
   ]
  },
  {
   "cell_type": "code",
   "execution_count": null,
   "metadata": {},
   "outputs": [],
   "source": [
    "# 2022-09-22 15:42:52 - Mask removal\n"
   ]
  },
  {
   "cell_type": "code",
   "execution_count": null,
   "metadata": {},
   "outputs": [],
   "source": []
  },
  {
   "cell_type": "code",
   "execution_count": null,
   "metadata": {},
   "outputs": [],
   "source": []
  },
  {
   "cell_type": "code",
   "execution_count": 48,
   "metadata": {},
   "outputs": [],
   "source": [
    "rand2=np.random.randint(-30,30,22)\n",
    "#rand2=[ 12, -34,  -1, -39, -15, -12, -44, -11, -40, -25, -40, -50, -42, 5, -49, -26, -34, -24,  -1, -37, -22, -39]\n",
    "rand2=([-27,  13, -15, -10,  -4,   4,  28,  16,  15,   8, -11, -13,  10, 6,  -7,  12, -10,   4, -12,   4,  14,   2])\n",
    "remove_slices=dict()\n",
    "for i in range(22):\n",
    "    remove_slices[str(i+1)]=[]\n",
    "    if rand2[i]<0:\n",
    "        for j in range(5):\n",
    "            remove_slices[str(i+1)]=remove_slices[str(i+1)]+list(range(rand2[i]+(j+1)*65+j*10,rand2[i]+(j+1)*(65+10)))\n",
    "    else:\n",
    "        remove_slices[str(i+1)]=remove_slices[str(i+1)]+list(range(0,rand2[i]))\n",
    "        for j in range(1,5):    \n",
    "            remove_slices[str(i+1)]=remove_slices[str(i+1)]+list(range(rand2[i]+65*j+(j-1)*10,rand2[i]+j*65+j*10))"
   ]
  },
  {
   "cell_type": "code",
   "execution_count": 49,
   "metadata": {
    "scrolled": true
   },
   "outputs": [
    {
     "data": {
      "text/plain": [
       "[0,\n",
       " 1,\n",
       " 67,\n",
       " 68,\n",
       " 69,\n",
       " 70,\n",
       " 71,\n",
       " 72,\n",
       " 73,\n",
       " 74,\n",
       " 75,\n",
       " 76,\n",
       " 142,\n",
       " 143,\n",
       " 144,\n",
       " 145,\n",
       " 146,\n",
       " 147,\n",
       " 148,\n",
       " 149,\n",
       " 150,\n",
       " 151,\n",
       " 217,\n",
       " 218,\n",
       " 219,\n",
       " 220,\n",
       " 221,\n",
       " 222,\n",
       " 223,\n",
       " 224,\n",
       " 225,\n",
       " 226,\n",
       " 292,\n",
       " 293,\n",
       " 294,\n",
       " 295,\n",
       " 296,\n",
       " 297,\n",
       " 298,\n",
       " 299,\n",
       " 300,\n",
       " 301]"
      ]
     },
     "execution_count": 49,
     "metadata": {},
     "output_type": "execute_result"
    }
   ],
   "source": [
    "remove_slices['22']"
   ]
  },
  {
   "cell_type": "code",
   "execution_count": 39,
   "metadata": {},
   "outputs": [],
   "source": [
    "outf=open('simpleware_makeMyelin_XZ.txt','w')\n",
    "axon_name = [\"01\",'02','03','04','05',\"06\",'07','08','09','10',\"11\",'12','13','14','15',\"16\",'17','18','19','20','21',\n",
    "                  '22']\n",
    "layer_name = ['1','2','3','4']\n",
    "\n",
    "for i in range(22):\n",
    "    for la in layer_name:\n",
    "        myelin_name= str(axon_name[i]+la)\n",
    "        outf.write('# 2020-02-16 14:42:30 - Mask activation\\n')\n",
    "        outf.write('App.GetDocument().GetGenericMaskByName(\"Myelin'+myelin_name+'\").Activate()\\n')\n",
    "        outf.write('# 2020-02-16 15:09:58 - Paint\\n')\n",
    "        outf.write('App.GetDocument().GetActiveMask().Unpaint([Point3D(140, 141, '+str(remove_slices[str(i+1)][0])+')], Mask.Square, 300, True,\\n') \n",
    "        outf.write('['+','.join([str(k) for k in remove_slices[str(i+1)] if k<279])+'],\\n')\n",
    "        outf.write('Doc.OrientationXY, True)\\n')\n",
    "        outf.write('\\n')\n",
    "outf.close()"
   ]
  },
  {
   "cell_type": "code",
   "execution_count": 44,
   "metadata": {},
   "outputs": [],
   "source": [
    "outf=open('union.txt','w')\n",
    "axon_name = [\"01\",'02','03','04','05',\"06\",'07','08','09','10',\"11\",'12','13','14','15',\"16\",'17','18','19','20','21',\n",
    "                  '22']\n",
    "layer_name = ['1','2','3','4']\n",
    "\n",
    "outf.write('# 2020-02-16 14:42:30 - Mask activation\\n')\n",
    "outf.write('App.GetDocument().GetGenericMaskByName(\"Microglia\").Activate()\\n')\n",
    "outf.write('\\n')\n",
    "for i in range(22):\n",
    "    outf.write('# 2022-09-22 15:17:42 - Voxel Boolean\\n')\n",
    "    outf.write('App.GetDocument().ReplaceMaskUsingBooleanExpression(\"(Microglia OR Axon'+str(i+1)+')\", App.GetDocument().GetMaskByName(\"Microglia\"), App.GetDocument().GetSliceIndices(Doc.OrientationZX), Doc.OrientationZX)\\n')\n",
    "    outf.write('\\n')\n",
    "    for la in layer_name:\n",
    "        myelin_name= str(axon_name[i]+la)\n",
    "        outf.write('# 2022-09-22 15:17:42 - Voxel Boolean\\n')\n",
    "        outf.write('App.GetDocument().ReplaceMaskUsingBooleanExpression(\"(Microglia OR Myelin'+myelin_name+')\", App.GetDocument().GetMaskByName(\"Microglia\"), App.GetDocument().GetSliceIndices(Doc.OrientationZX), Doc.OrientationZX)\\n')\n",
    "        outf.write('\\n')\n",
    "\n",
    "        \n",
    "outf.close()"
   ]
  },
  {
   "cell_type": "code",
   "execution_count": null,
   "metadata": {},
   "outputs": [],
   "source": []
  },
  {
   "cell_type": "code",
   "execution_count": null,
   "metadata": {},
   "outputs": [],
   "source": []
  },
  {
   "cell_type": "code",
   "execution_count": 41,
   "metadata": {},
   "outputs": [],
   "source": [
    "outf=open('active.txt','w')\n",
    "axon_name = [\"01\",'02','03','04','05',\"06\",'07','08','09','10',\"11\",'12','13','14','15',\"16\",'17','18','19','20','21',\n",
    "                  '22']\n",
    "layer_name = ['1','2','3','4']\n",
    "\n",
    "for i in range(22):\n",
    "    outf.write('# 2020-02-16 14:42:30 - Mask activation\\n')\n",
    "    outf.write('App.GetDocument().GetGenericMaskByName(\"Axon'+str(i+1)+'\").Activate()\\n')\n",
    "    outf.write('# 2020-02-16 15:09:58 - Paint\\n')\n",
    "    outf.write('App.GetDocument().GetActiveGenericMask().SetVisible(True)\\n')\n",
    "    outf.write('\\n')\n",
    "    for la in layer_name:\n",
    "        myelin_name= str(axon_name[i]+la)\n",
    "        outf.write('# 2020-02-16 14:42:30 - Mask activation\\n')\n",
    "        outf.write('App.GetDocument().GetGenericMaskByName(\"Myelin'+myelin_name+'\").Activate()\\n')\n",
    "        outf.write('# 2020-02-16 15:09:58 - Paint\\n')\n",
    "        outf.write('App.GetDocument().GetActiveGenericMask().SetVisible(True)\\n')\n",
    "        outf.write('\\n')\n",
    "\n",
    "        \n",
    "        \n",
    "outf.close()"
   ]
  },
  {
   "cell_type": "code",
   "execution_count": 43,
   "metadata": {},
   "outputs": [],
   "source": [
    "outf=open('inactive.txt','w')\n",
    "axon_name = [\"01\",'02','03','04','05',\"06\",'07','08','09','10',\"11\",'12','13','14','15',\"16\",'17','18','19','20','21',\n",
    "                  '22']\n",
    "layer_name = ['1','2','3','4']\n",
    "\n",
    "for i in range(22):\n",
    "    outf.write('# 2020-02-16 14:42:30 - Mask activation\\n')\n",
    "    outf.write('App.GetDocument().GetGenericMaskByName(\"Axon'+str(i+1)+'\").Activate()\\n')\n",
    "    outf.write('# 2020-02-16 15:09:58 - Paint\\n')\n",
    "    outf.write('App.GetDocument().GetActiveGenericMask().SetVisible(False)\\n')\n",
    "    outf.write('\\n')\n",
    "    for la in layer_name:\n",
    "        myelin_name= str(axon_name[i]+la)\n",
    "        outf.write('# 2020-02-16 14:42:30 - Mask activation\\n')\n",
    "        outf.write('App.GetDocument().GetGenericMaskByName(\"Myelin'+myelin_name+'\").Activate()\\n')\n",
    "        outf.write('# 2020-02-16 15:09:58 - Paint\\n')\n",
    "        outf.write('App.GetDocument().GetActiveGenericMask().SetVisible(False)\\n')\n",
    "        outf.write('\\n')\n",
    "\n",
    "        \n",
    "        \n",
    "outf.close()"
   ]
  },
  {
   "cell_type": "code",
   "execution_count": null,
   "metadata": {},
   "outputs": [],
   "source": []
  },
  {
   "cell_type": "code",
   "execution_count": null,
   "metadata": {},
   "outputs": [],
   "source": []
  },
  {
   "cell_type": "code",
   "execution_count": null,
   "metadata": {},
   "outputs": [],
   "source": []
  }
 ],
 "metadata": {
  "kernelspec": {
   "display_name": "Python 3",
   "language": "python",
   "name": "python3"
  },
  "language_info": {
   "codemirror_mode": {
    "name": "ipython",
    "version": 3
   },
   "file_extension": ".py",
   "mimetype": "text/x-python",
   "name": "python",
   "nbconvert_exporter": "python",
   "pygments_lexer": "ipython3",
   "version": "3.7.1"
  }
 },
 "nbformat": 4,
 "nbformat_minor": 2
}
